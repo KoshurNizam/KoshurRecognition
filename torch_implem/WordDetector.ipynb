{
 "cells": [
  {
   "cell_type": "code",
   "execution_count": 55,
   "metadata": {
    "colab": {},
    "colab_type": "code",
    "id": "Sn8jLInlQszZ"
   },
   "outputs": [],
   "source": [
    "import torch\n",
    "from torch import nn\n",
    "import torch.nn.functional as F\n",
    "from torchvision import transforms\n",
    "from torch.utils.data import DataLoader, Dataset\n",
    "from torch import optim\n",
    "from PIL import Image"
   ]
  },
  {
   "cell_type": "code",
   "execution_count": 56,
   "metadata": {
    "colab": {
     "base_uri": "https://localhost:8080/",
     "height": 124
    },
    "colab_type": "code",
    "id": "y_YYcYDZ5uEZ",
    "outputId": "ab2d897d-6c4c-4d8c-bd31-ce6f5531168d"
   },
   "outputs": [],
   "source": [
    "## uncomment if using colab\n",
    "#from google.colab import drive\n",
    "#drive.mount('/content/drive')"
   ]
  },
  {
   "cell_type": "code",
   "execution_count": 57,
   "metadata": {
    "colab": {
     "base_uri": "https://localhost:8080/",
     "height": 1000
    },
    "colab_type": "code",
    "id": "Hct2dMiKyKJ0",
    "outputId": "4436b008-7cb5-4059-899c-3ee64943b974"
   },
   "outputs": [],
   "source": [
    "## uncomment if using colab\n",
    "#! unzip \"drive/My Drive/Kmodel/Copy of Test.zip\""
   ]
  },
  {
   "cell_type": "code",
   "execution_count": 58,
   "metadata": {
    "colab": {},
    "colab_type": "code",
    "id": "cITuCk2sQszm"
   },
   "outputs": [
    {
     "data": {
      "text/plain": [
       "device(type='cuda')"
      ]
     },
     "execution_count": 58,
     "metadata": {},
     "output_type": "execute_result"
    }
   ],
   "source": [
    "device = torch.device(\"cuda\" if torch.cuda.is_available() else \"cpu\") #GPU training\n",
    "device"
   ]
  },
  {
   "cell_type": "code",
   "execution_count": 59,
   "metadata": {
    "colab": {},
    "colab_type": "code",
    "id": "ARaEuNUPQszu"
   },
   "outputs": [],
   "source": [
    "SOS = 0 #start of sequence\n",
    "EOS = 1 #end of sequence"
   ]
  },
  {
   "cell_type": "code",
   "execution_count": 60,
   "metadata": {
    "colab": {},
    "colab_type": "code",
    "id": "5hvo36g--g58"
   },
   "outputs": [],
   "source": [
    "import os\n",
    "files = os.listdir(\"../side_utils/DataGen/Data/WordPics/\")"
   ]
  },
  {
   "cell_type": "code",
   "execution_count": 61,
   "metadata": {
    "colab": {},
    "colab_type": "code",
    "id": "taDO56RJ-pJN"
   },
   "outputs": [],
   "source": [
    "files.sort(key=lambda x:int(x.split(\".\")[0]))"
   ]
  },
  {
   "cell_type": "code",
   "execution_count": 62,
   "metadata": {
    "colab": {},
    "colab_type": "code",
    "id": "CbcvyWQ0Qsz1"
   },
   "outputs": [],
   "source": [
    "with open(\"../side_utils/DataGen/Data/labels.txt\", encoding=\"utf8\") as f:\n",
    "    chars = f.readlines()"
   ]
  },
  {
   "cell_type": "code",
   "execution_count": 63,
   "metadata": {
    "colab": {},
    "colab_type": "code",
    "id": "dU-tY608-45u"
   },
   "outputs": [],
   "source": [
    "import numpy as np\n",
    "#check if file names and labels are same\n",
    "assert (np.array([int(i.split(\":\")[0]) for i in chars]) == np.array([int(i.split(\".\")[0]) for i in files])).all()"
   ]
  },
  {
   "cell_type": "code",
   "execution_count": 64,
   "metadata": {
    "colab": {
     "base_uri": "https://localhost:8080/",
     "height": 191
    },
    "colab_type": "code",
    "id": "oHeovauMQsz8",
    "outputId": "cb427c71-5b63-424b-a884-f08de7923da0"
   },
   "outputs": [
    {
     "data": {
      "text/plain": [
       "['محمد',\n",
       " 'پوٚت',\n",
       " 'میلنہٕ',\n",
       " 'شفا',\n",
       " 'گواطمینانِ',\n",
       " 'فلک',\n",
       " 'قدر،',\n",
       " 'بۅڈ',\n",
       " 'تا',\n",
       " 'ووتھ']"
      ]
     },
     "execution_count": 64,
     "metadata": {},
     "output_type": "execute_result"
    }
   ],
   "source": [
    "chars = list(map(lambda x:x.split(\":\")[-1].strip(), chars))\n",
    "chars[:10]"
   ]
  },
  {
   "cell_type": "code",
   "execution_count": 65,
   "metadata": {
    "colab": {},
    "colab_type": "code",
    "id": "qPzrvogyQs0D"
   },
   "outputs": [],
   "source": [
    "chars = list(set(\"\".join(chars)))"
   ]
  },
  {
   "cell_type": "code",
   "execution_count": 66,
   "metadata": {
    "colab": {},
    "colab_type": "code",
    "id": "NRoxkRkAQs0J"
   },
   "outputs": [],
   "source": [
    "index2word = dict(enumerate(chars,2)) # start from 2, because 0 and 1 are reserved\n",
    "index2word[0] = \"SOS\"\n",
    "index2word[1] = \"EOS\""
   ]
  },
  {
   "cell_type": "code",
   "execution_count": 67,
   "metadata": {
    "colab": {},
    "colab_type": "code",
    "id": "ADpOHFBHQs0R"
   },
   "outputs": [],
   "source": [
    "word2index = {v:k for k,v in index2word.items()}"
   ]
  },
  {
   "cell_type": "code",
   "execution_count": 68,
   "metadata": {
    "colab": {
     "base_uri": "https://localhost:8080/",
     "height": 34
    },
    "colab_type": "code",
    "id": "JUfbb83SYddH",
    "outputId": "333b943c-5815-4a69-da31-6e8c4fe7b1b6"
   },
   "outputs": [
    {
     "data": {
      "text/plain": [
       "114"
      ]
     },
     "execution_count": 68,
     "metadata": {},
     "output_type": "execute_result"
    }
   ],
   "source": [
    "len(word2index)"
   ]
  },
  {
   "cell_type": "code",
   "execution_count": 20,
   "metadata": {
    "colab": {},
    "colab_type": "code",
    "id": "6Ckte4NqY2NP"
   },
   "outputs": [],
   "source": [
    "os.makedirs(\"../side_utils/DataGen/Data/train_data\", exist_ok=True)\n",
    "os.makedirs(\"../side_utils/DataGen/Data/val_data\", exist_ok=True)\n",
    "os.makedirs(\"../side_utils/DataGen/Data/test_data\", exist_ok=True)\n"
   ]
  },
  {
   "cell_type": "code",
   "execution_count": 16,
   "metadata": {
    "colab": {},
    "colab_type": "code",
    "id": "bk4ENO2aZBcO"
   },
   "outputs": [],
   "source": [
    "train_size = 20000\n",
    "val_size = 5000"
   ]
  },
  {
   "cell_type": "code",
   "execution_count": 17,
   "metadata": {
    "colab": {},
    "colab_type": "code",
    "id": "e6s7tkSnZNaC"
   },
   "outputs": [],
   "source": [
    "import shutil"
   ]
  },
  {
   "cell_type": "code",
   "execution_count": 20,
   "metadata": {
    "colab": {},
    "colab_type": "code",
    "id": "lut2C3agZQEI"
   },
   "outputs": [],
   "source": [
    "f1 = open(\"../side_utils/DataGen/Data/labels.txt\", encoding=\"utf8\")\n",
    "f2 = open(\"../side_utils/DataGen/Data/labels_train.txt\", \"a\", encoding=\"utf8\")\n",
    "\n",
    "for file in files[:train_size]:\n",
    "    shutil.copyfile(\"../side_utils/DataGen/Data/WordPics/\"+file,\"../side_utils/DataGen/Data/train_data/\"+file)\n",
    "\n",
    "    f2.write(f1.readline())\n",
    "f2.close()"
   ]
  },
  {
   "cell_type": "code",
   "execution_count": 21,
   "metadata": {
    "colab": {},
    "colab_type": "code",
    "id": "kOMYBmZHawls"
   },
   "outputs": [],
   "source": [
    "# f1 = open(\"labels.txt\", encoding=\"utf8\")\n",
    "f3 = open(\"../side_utils/DataGen/Data/labels_val.txt\", \"a\", encoding=\"utf8\")\n",
    "\n",
    "for file in files[train_size:train_size+val_size]:\n",
    "    shutil.copyfile(\"../side_utils/DataGen/Data/WordPics/\"+file,\"../side_utils/DataGen/Data/val_data/\"+file)\n",
    "\n",
    "    f3.write(f1.readline())\n",
    "f3.close()"
   ]
  },
  {
   "cell_type": "code",
   "execution_count": 22,
   "metadata": {
    "colab": {},
    "colab_type": "code",
    "id": "qFaxrkwEbmi0"
   },
   "outputs": [],
   "source": [
    "# f1 = open(\"labels.txt\", encoding=\"utf8\")\n",
    "f4 = open(\"../side_utils/DataGen/Data/labels_test.txt\", \"a\", encoding=\"utf8\")\n",
    "\n",
    "for file in files[train_size+val_size:]:\n",
    "    shutil.copyfile(\"../side_utils/DataGen/Data/WordPics/\"+file,\"../side_utils/DataGen/Data/test_data/\"+file)\n",
    "\n",
    "    f4.write(f1.readline())\n",
    "f4.close()\n",
    "f1.close()"
   ]
  },
  {
   "cell_type": "code",
   "execution_count": 69,
   "metadata": {
    "colab": {},
    "colab_type": "code",
    "id": "vbn_eJrXQs0m"
   },
   "outputs": [],
   "source": [
    "import os\n",
    "import cv2\n",
    "class WordDataset(Dataset):\n",
    "    \n",
    "    def __init__(self, root_folder, labels_path, transform=None):\n",
    "        self.transform = transform\n",
    "        self.root_folder = root_folder\n",
    "        self.files = os.listdir(root_folder)\n",
    "        self.files.sort(key=lambda x:int(x.split(\".\")[0]))\n",
    "        with open(labels_path) as f:\n",
    "            self.labels = f.readlines()\n",
    "            self.labels = self.labels\n",
    "    def __len__(self):\n",
    "        return len(self.files)\n",
    "    \n",
    "    def __getitem__(self, idx):\n",
    "        if torch.is_tensor(idx):\n",
    "            idx = idx.tolist()\n",
    "            \n",
    "#         image = cv2.imread(os.path.join(self.root_folder, self.files[idx]), 0)\n",
    "        image = Image.open(os.path.join(self.root_folder, self.files[idx]))\n",
    "#         image = (255-image[:,::-1])/255\n",
    "#         label_no = self.files[idx].split(\".\")[0]\n",
    "        label = self.labels[idx].split(\":\")[-1].strip()\n",
    "        \n",
    "        if self.transform:\n",
    "            image = self.transform(image)\n",
    "        \n",
    "        return image, label"
   ]
  },
  {
   "cell_type": "code",
   "execution_count": 70,
   "metadata": {
    "colab": {},
    "colab_type": "code",
    "id": "FdMoVHDVQs0s"
   },
   "outputs": [],
   "source": [
    "transform = transforms.Compose([transforms.Grayscale(3),\n",
    "                                transforms.RandomRotation(15, fill=255), # add an issue in torchvision\n",
    "                                transforms.RandomAffine(20,fillcolor=(255,255,255)),\n",
    "                                transforms.ColorJitter(brightness=0.5, contrast=0.5),\n",
    "                                transforms.ToTensor(),])\n",
    "#                                 transforms.Normalize(mean=[0.06333], std=[1.4219])])\n",
    "\n",
    "transform2 = transforms.Compose([transforms.Grayscale(3),\n",
    "                                transforms.ToTensor(),])"
   ]
  },
  {
   "cell_type": "code",
   "execution_count": 71,
   "metadata": {
    "colab": {},
    "colab_type": "code",
    "id": "9pI7I4MdQs0x"
   },
   "outputs": [],
   "source": [
    "# dataset = WordDataset(\"./WordPics\",\"./labels.txt\", transform)\n",
    "train_dataset = WordDataset(\"../side_utils/DataGen/Data/train_data\",\n",
    "                            \"../side_utils/DataGen/Data/labels_train.txt\", transform)\n",
    "val_dataset = WordDataset(\"../side_utils/DataGen/Data/val_data\",\n",
    "                          \"../side_utils/DataGen/Data/labels_val.txt\", transform)\n",
    "test_dataset = WordDataset(\"../side_utils/DataGen/Data/test_data\",\n",
    "                           \"../side_utils/DataGen/Data/labels_test.txt\", transform2)\n"
   ]
  },
  {
   "cell_type": "code",
   "execution_count": 72,
   "metadata": {
    "colab": {},
    "colab_type": "code",
    "id": "HOZdbF-JQs02"
   },
   "outputs": [],
   "source": [
    "train_dl = DataLoader(train_dataset,batch_size=1,num_workers=0, shuffle=True)\n",
    "val_dl = DataLoader(val_dataset,batch_size=1,num_workers=0, shuffle=True)\n",
    "test_dl = DataLoader(test_dataset,batch_size=1,num_workers=0, shuffle=True)\n"
   ]
  },
  {
   "cell_type": "markdown",
   "metadata": {
    "colab_type": "text",
    "id": "yzFTk248Qs1G"
   },
   "source": [
    "> Think of some way to put an **EOS** in the encoder. While i currently think it is not necessary, or that encoder and decoder need not have the same **EOS**."
   ]
  },
  {
   "cell_type": "markdown",
   "metadata": {
    "colab_type": "text",
    "id": "DPLkpDvpjJz4"
   },
   "source": [
    "Check if a random image is correctly labelled with the label"
   ]
  },
  {
   "cell_type": "code",
   "execution_count": 73,
   "metadata": {
    "colab": {
     "base_uri": "https://localhost:8080/",
     "height": 303
    },
    "colab_type": "code",
    "id": "qENN8h0RpULy",
    "outputId": "cdff4431-eaec-4da3-e4c9-fc95caf2d818"
   },
   "outputs": [
    {
     "name": "stdout",
     "output_type": "stream",
     "text": [
      "('سپدٕۍمٕتۍ،',)\n"
     ]
    },
    {
     "data": {
      "text/plain": [
       "<matplotlib.image.AxesImage at 0x7f53480d20d0>"
      ]
     },
     "execution_count": 73,
     "metadata": {},
     "output_type": "execute_result"
    },
    {
     "data": {
      "image/png": "[encoded data removed]",
      "text/plain": [
       "<Figure size 432x288 with 1 Axes>"
      ]
     },
     "metadata": {
      "needs_background": "light"
     },
     "output_type": "display_data"
    }
   ],
   "source": [
    "iterator = iter(train_dl) # change to train_dl or val_dl to check in those datasets\n",
    "image, label = iterator.next()\n",
    "import matplotlib.pyplot as plt\n",
    "print(label)\n",
    "plt.imshow(image[0].transpose(0,1).transpose(1,2))"
   ]
  },
  {
   "cell_type": "markdown",
   "metadata": {
    "colab_type": "text",
    "id": "PqJ4xsSJf9sm"
   },
   "source": [
    "# Models\n",
    "\n",
    "The model architechture is organized into three modules:\n",
    "1. `ImgEncoder`: A convolutional network. \n",
    "  -  It will take input of an image of `[1, 60, x]` (channels, height, width) and produce the output of `[128, 12, x']`, which is then flattened out to `[1536, x']`.\n",
    "\n",
    "2. `Encoder(input_size, hidden_size, n_layers)`: \n",
    "  - It has a linear layer followed by a GRU layer.\n",
    "  - It takes a vector of `[1, input_size]` and the linear converts into `[1, hidden_size]` vector. \n",
    "  - Then the `[1, hidden_size]` vector is passed via a GRU with `n_layers`.\n",
    "  - The hidden input to GRU is initialized as zeros.\n",
    "\n",
    "3. `DecoderRNN(hidden_size, output_size, n_layers)`: \n",
    "   - It has an embedding layer giving out `hidden_size` length of vectors.\n",
    "   - Then a GRU layer with `hidden_size` output and `n_layers`.\n",
    "   - Then a linear layer of `output_size` nodes.\n",
    "   - Then a softmax."
   ]
  },
  {
   "cell_type": "code",
   "execution_count": 74,
   "metadata": {
    "colab": {},
    "colab_type": "code",
    "id": "ozSMbqb1GPmU"
   },
   "outputs": [],
   "source": [
    "class ImgEncoder(nn.Module):\n",
    "    def __init__(self):\n",
    "        super(ImgEncoder, self).__init__()\n",
    "        self.conv1 = nn.Conv2d(3,16,kernel_size=3)\n",
    "        self.conv2 = nn.Conv2d(16,32,kernel_size=3)        \n",
    "        self.conv3 = nn.Conv2d(32,64,kernel_size=3)\n",
    "        self.conv4 = nn.Conv2d(64,128,kernel_size=3)\n",
    " \n",
    "        \n",
    "        self.pool = nn.MaxPool2d((2,2))\n",
    "        self.flatten = nn.Flatten(end_dim=-2)\n",
    "        \n",
    "        \n",
    "        ,\n",
    "    def forward(self, x):\n",
    "        \n",
    "        x = F.relu(self.conv1(x))\n",
    "        x = F.relu(self.conv2(x))\n",
    "        x = self.pool(x)\n",
    "\n",
    "        x = F.relu(self.conv3(x))\n",
    "        x = F.relu(self.conv4(x))\n",
    "        \n",
    "        x = self.pool(x)\n",
    "       \n",
    "        \n",
    "        x = self.flatten(x)\n",
    "        \n",
    "        \n",
    "        \n",
    "        return x"
   ]
  },
  {
   "cell_type": "code",
   "execution_count": 75,
   "metadata": {
    "colab": {},
    "colab_type": "code",
    "id": "JJ_zlzhLQs0b"
   },
   "outputs": [],
   "source": [
    "class Encoder(nn.Module):\n",
    "    def __init__(self, input_size, hidden_size, n_layers):\n",
    "        \n",
    "        super(Encoder, self).__init__()\n",
    "\n",
    "        self.n_layers = n_layers\n",
    " \n",
    "        self.hidden_size = hidden_size\n",
    "        \n",
    "        self.fc1 = nn.Linear(input_size,hidden_size)\n",
    "        \n",
    "        \n",
    "#         self.em = nn.Embedding(input_size,hidden_size)\n",
    "        self.gru = nn.GRU(hidden_size,hidden_size,num_layers=n_layers)\n",
    "    \n",
    "    def forward(self, input, hidden):\n",
    "        \n",
    "        output = F.relu(self.fc1(input)).view(1,1,-1)\n",
    "        \n",
    "#         embedded = self.em(input).view(1,1,-1)\n",
    "#         output = embedded\n",
    "        output, hidden = self.gru(output, hidden)\n",
    "        \n",
    "        return output, hidden\n",
    "    \n",
    "    def initHidden(self):\n",
    "        return torch.zeros(self.n_layers, 1, self.hidden_size, device=device)"
   ]
  },
  {
   "cell_type": "code",
   "execution_count": 76,
   "metadata": {
    "colab": {},
    "colab_type": "code",
    "id": "n6VkRsU0Qs0h"
   },
   "outputs": [],
   "source": [
    "class DecoderRNN(nn.Module):\n",
    "    \n",
    "    def __init__(self, hidden_size, output_size, n_layers):\n",
    "        \n",
    "        super(DecoderRNN, self).__init__()\n",
    " \n",
    "        self.hidden_size = hidden_size\n",
    "        self.n_layers = n_layers\n",
    "        self.em = nn.Embedding(output_size, hidden_size)\n",
    "        self.gru = nn.GRU(hidden_size, hidden_size, num_layers=n_layers)\n",
    "        self.out = nn.Linear(hidden_size, output_size)\n",
    "        self.softmax = nn.LogSoftmax(dim=1)\n",
    "        \n",
    "    def forward(self, input, hidden):\n",
    "        out = self.em(input).view(1,1,-1)\n",
    "        out = F.relu(out)\n",
    "        out, hidden = self.gru(out, hidden)\n",
    "        out = self.softmax(self.out(out[0]))\n",
    "        return out, hidden\n",
    "    \n",
    "    def initHidden(self):\n",
    "        return torch.zeros(self.n_layers,1, self.hidden_size, device=device)"
   ]
  },
  {
   "cell_type": "markdown",
   "metadata": {
    "colab_type": "text",
    "id": "U0MbPAMoJJyF"
   },
   "source": [
    "We will add the `EOS` to every label to denote the end of that vector."
   ]
  },
  {
   "cell_type": "code",
   "execution_count": 77,
   "metadata": {
    "colab": {},
    "colab_type": "code",
    "id": "yjWQpIy4Qs1B"
   },
   "outputs": [],
   "source": [
    "def get_target(word):\n",
    "    \"\"\"This function converts a label into a target. It also adds `EOS` at the end.\"\"\"\n",
    "    t = [word2index[i] for i in word]\n",
    "    t.append(EOS)\n",
    "    return torch.tensor(t, dtype=torch.long, device=device).view(-1,1)"
   ]
  },
  {
   "cell_type": "code",
   "execution_count": 78,
   "metadata": {
    "colab": {},
    "colab_type": "code",
    "id": "OAt2W1y6Qs1l"
   },
   "outputs": [],
   "source": [
    "def train(image, label, conv, enc, dec, conv_optim, enc_optim, dec_optim, criterion):\n",
    "    \n",
    "    \n",
    "    loss=0 \n",
    "\n",
    "\n",
    "    # set gradients of every optimizers to be zero\n",
    "    conv_optim.zero_grad()\n",
    "    enc_optim.zero_grad()\n",
    "    dec_optim.zero_grad()\n",
    " \n",
    "    image = image.to(device)\n",
    "    conv_output = conv(image) # move through conv part\n",
    "    # conv_output shape will be [1,1536, x']\n",
    "    \n",
    "    \n",
    "    enc_hidden = enc.initHidden() \n",
    "    \n",
    "\n",
    "    # pass each of the [1, 1536] vectors to encoder\n",
    "    for idx in range(conv_output.shape[2]): # for every \n",
    "        enc_out, enc_hidden = enc(conv_output[:,:,idx], enc_hidden)\n",
    " \n",
    "    target = get_target(label[0]) # makes a tensor and adds EOS\n",
    "    target_len = len(target)\n",
    "    target.to(device)\n",
    " \n",
    " \n",
    "    decoder_input = torch.tensor([[[SOS]]], device=device)\n",
    "\n",
    "    # the output of encoder is now hidden input for decoder\n",
    "    decoder_hidden = enc_hidden \n",
    "\n",
    "\n",
    "    for di in range(target_len):\n",
    "        decoder_output, decoder_hidden = dec(decoder_input, decoder_hidden)\n",
    "        topv, topi = decoder_output.topk(1) # get the top output\n",
    "        decoder_input = topi.squeeze().detach()  # detach from history as input\n",
    " \n",
    "        loss += criterion(decoder_output, target[di])\n",
    "\n",
    "        # if decoder spits out EOS, stop.\n",
    "        if decoder_input.item() == EOS:\n",
    "            break\n",
    "    \n",
    "    # compute gradients for loss\n",
    "    loss.backward()\n",
    " \n",
    "    # update weights \n",
    "    conv_optim.step()\n",
    "    enc_optim.step()\n",
    "    dec_optim.step()\n",
    "    \n",
    "    return loss.item()/target_len\n"
   ]
  },
  {
   "cell_type": "code",
   "execution_count": 79,
   "metadata": {
    "colab": {},
    "colab_type": "code",
    "id": "JKXixI_l7Vz6"
   },
   "outputs": [],
   "source": [
    "def validate(image, label, conv, enc, dec, crterion):\n",
    "    loss=0\n",
    "\n",
    "    image = image.to(device)\n",
    "    conv_output = conv(image)\n",
    " \n",
    "    enc_hidden = enc.initHidden()\n",
    "    \n",
    "    for idx in range(conv_output.shape[2]):\n",
    "        enc_out, enc_hidden = enc(conv_output[:,:,idx], enc_hidden)\n",
    " \n",
    "    target = get_target(label[0])\n",
    "    target_len = len(target)\n",
    "    target.to(device)\n",
    " \n",
    " \n",
    "    decoder_input = torch.tensor([[[SOS]]], device=device)\n",
    "    decoder_hidden = enc_hidden\n",
    "\n",
    " \n",
    "    for di in range(target_len):\n",
    "        decoder_output, decoder_hidden = dec(decoder_input, decoder_hidden)\n",
    "        topv, topi = decoder_output.topk(1)\n",
    "        decoder_input = topi.squeeze().detach()  # detach from history as input\n",
    " \n",
    "        loss += criterion(decoder_output, target[di])\n",
    "        if decoder_input.item() == EOS:\n",
    "            break\n",
    "    \n",
    "    return loss.item()/target_len\n",
    "    "
   ]
  },
  {
   "cell_type": "code",
   "execution_count": 80,
   "metadata": {
    "colab": {},
    "colab_type": "code",
    "id": "fLvoJNkkQs1N"
   },
   "outputs": [],
   "source": [
    "learning_rate = 0.01\n",
    "conv = ImgEncoder()\n",
    "enc = Encoder(1536,256,3)\n",
    "dec = DecoderRNN(256, len(word2index),3)\n",
    "criterion = nn.NLLLoss()\n",
    "enc_optim = optim.SGD(enc.parameters(), lr=learning_rate, momentum=0.9)\n",
    "dec_optim = optim.SGD(dec.parameters(), lr=learning_rate, momentum=0.9)\n",
    "conv_optim = optim.SGD(conv.parameters(), lr=learning_rate, momentum=0.9)"
   ]
  },
  {
   "cell_type": "code",
   "execution_count": 81,
   "metadata": {
    "colab": {
     "base_uri": "https://localhost:8080/",
     "height": 34
    },
    "colab_type": "code",
    "id": "xN4WFhYQHY_V",
    "outputId": "df31a469-7918-435b-ef21-0b1b2f59072c"
   },
   "outputs": [
    {
     "data": {
      "text/plain": [
       "114"
      ]
     },
     "execution_count": 81,
     "metadata": {},
     "output_type": "execute_result"
    }
   ],
   "source": [
    "\n",
    "# nn.GRU()\n",
    "# criterion()\n",
    "len(word2index)"
   ]
  },
  {
   "cell_type": "code",
   "execution_count": 82,
   "metadata": {
    "colab": {},
    "colab_type": "code",
    "id": "t8NaGhrcyuze"
   },
   "outputs": [],
   "source": [
    "main_path = \"drive/My Drive/Kmodel/\" \n",
    "\n",
    "# conv.load_state_dict(torch.load(main_path+\"conv2.pt\"))\n",
    "# enc.load_state_dict(torch.load(main_path+\"enc2.pt\"))\n",
    "# dec.load_state_dict(torch.load(main_path+\"dec2.pt\"))\n",
    "\n",
    "conv = conv.to(device)\n",
    "enc = enc.to(device)\n",
    "dec = dec.to(device)"
   ]
  },
  {
   "cell_type": "code",
   "execution_count": 83,
   "metadata": {
    "colab": {},
    "colab_type": "code",
    "id": "KvPlTKXJQs1p"
   },
   "outputs": [],
   "source": [
    "n_epochs = 6"
   ]
  },
  {
   "cell_type": "code",
   "execution_count": 84,
   "metadata": {
    "colab": {},
    "colab_type": "code",
    "id": "RRXN3ZvG9dGd"
   },
   "outputs": [
    {
     "name": "stdout",
     "output_type": "stream",
     "text": [
      "Current Error:  4.761396408081055\n"
     ]
    },
    {
     "ename": "KeyboardInterrupt",
     "evalue": "",
     "output_type": "error",
     "traceback": [
      "\u001b[0;31m---------------------------------------------------------------------------\u001b[0m",
      "\u001b[0;31mKeyboardInterrupt\u001b[0m                         Traceback (most recent call last)",
      "\u001b[0;32m<ipython-input-84-1993661fd252>\u001b[0m in \u001b[0;36m<module>\u001b[0;34m\u001b[0m\n\u001b[1;32m     15\u001b[0m             \u001b[0;32mcontinue\u001b[0m\u001b[0;34m\u001b[0m\u001b[0;34m\u001b[0m\u001b[0m\n\u001b[1;32m     16\u001b[0m         err = train(image, label, conv, enc, dec,\n\u001b[0;32m---> 17\u001b[0;31m               conv_optim, enc_optim, dec_optim, criterion)\n\u001b[0m\u001b[1;32m     18\u001b[0m         \u001b[0mtotal_loss\u001b[0m\u001b[0;34m+=\u001b[0m\u001b[0merr\u001b[0m\u001b[0;34m\u001b[0m\u001b[0;34m\u001b[0m\u001b[0m\n\u001b[1;32m     19\u001b[0m         \u001b[0;32mif\u001b[0m \u001b[0mi\u001b[0m\u001b[0;34m%\u001b[0m\u001b[0mprint_every\u001b[0m \u001b[0;34m==\u001b[0m\u001b[0;36m0\u001b[0m\u001b[0;34m:\u001b[0m\u001b[0;34m\u001b[0m\u001b[0;34m\u001b[0m\u001b[0m\n",
      "\u001b[0;32m<ipython-input-78-d6300f28dcf6>\u001b[0m in \u001b[0;36mtrain\u001b[0;34m(image, label, conv, enc, dec, conv_optim, enc_optim, dec_optim, criterion)\u001b[0m\n\u001b[1;32m     52\u001b[0m     \u001b[0mdec_optim\u001b[0m\u001b[0;34m.\u001b[0m\u001b[0mstep\u001b[0m\u001b[0;34m(\u001b[0m\u001b[0;34m)\u001b[0m\u001b[0;34m\u001b[0m\u001b[0;34m\u001b[0m\u001b[0m\n\u001b[1;32m     53\u001b[0m \u001b[0;34m\u001b[0m\u001b[0m\n\u001b[0;32m---> 54\u001b[0;31m     \u001b[0;32mreturn\u001b[0m \u001b[0mloss\u001b[0m\u001b[0;34m.\u001b[0m\u001b[0mitem\u001b[0m\u001b[0;34m(\u001b[0m\u001b[0;34m)\u001b[0m\u001b[0;34m/\u001b[0m\u001b[0mtarget_len\u001b[0m\u001b[0;34m\u001b[0m\u001b[0;34m\u001b[0m\u001b[0m\n\u001b[0m",
      "\u001b[0;31mKeyboardInterrupt\u001b[0m: "
     ]
    }
   ],
   "source": [
    "print_every = 5000\n",
    "i=0\n",
    "\n",
    "\n",
    "for epoch in range(n_epochs):\n",
    "\n",
    "    # set the models in train mode\n",
    "    conv.train()\n",
    "    enc.train()\n",
    "    dec.train()\n",
    "\n",
    "    total_loss = 0\n",
    "    for image, label in train_dl:\n",
    "        if image.shape[3] < 20:\n",
    "            continue\n",
    "        err = train(image, label, conv, enc, dec,\n",
    "              conv_optim, enc_optim, dec_optim, criterion)\n",
    "        total_loss+=err\n",
    "        if i%print_every ==0:\n",
    "            print(\"Current Error: \",err)\n",
    "        i+=1\n",
    "    # if epoch%100==0:\n",
    "    print(\"Epoch\", epoch, \"Avg Train Error: \", total_loss/len(train_dl))\n",
    "    # inp = input(\"Change Learning rate?\")\n",
    "    # if inp.casefold() == 'y':\n",
    "    #   learning_rate = float(input(\"Enter Learning rate\"))\n",
    "    #   enc_optim = optim.Adam(enc.parameters(), lr=learning_rate)#, momentum=0.9)\n",
    "    #   dec_optim = optim.Adam(dec.parameters(), lr=learning_rate)#, momentum=0.9)\n",
    "    #   conv_optim = optim.Adam(conv.parameters(), lr=learning_rate)#, momentum=0.9)\n",
    "\n",
    "    # print(\"saving models\")\n",
    "    # torch.save(conv.state_dict(), main_path+\"conv.pt\")\n",
    "    # torch.save(enc.state_dict(), main_path+\"enc.pt\")\n",
    "    # torch.save(dec.state_dict(), main_path+\"dec.pt\")\n",
    "\n",
    "\n",
    "    ################################################\n",
    "    # evalualtion mode\n",
    "    conv.eval()\n",
    "    enc.eval()\n",
    "    dec.eval()\n",
    "    eval_loss = 0\n",
    "\n",
    "    for image, label in val_dl:\n",
    "        if image.shape[3] < 20:\n",
    "            continue\n",
    "        err = validate(image, label, conv, enc, dec, criterion)\n",
    "        eval_loss += err\n",
    "    print(\"Epoch\", epoch, \"Avg Val Error: \", eval_loss/len(val_dl))\n",
    "    \n",
    "  \n"
   ]
  },
  {
   "cell_type": "markdown",
   "metadata": {
    "colab_type": "text",
    "id": "PQquqcfKlpTn"
   },
   "source": [
    "Test your model now"
   ]
  },
  {
   "cell_type": "code",
   "execution_count": 0,
   "metadata": {
    "colab": {},
    "colab_type": "code",
    "id": "UjLW31Ymu3Zu"
   },
   "outputs": [],
   "source": [
    "conv.eval()\n",
    "enc.eval()\n",
    "dec.eval()\n",
    "\n",
    "preds = []\n",
    "tars = [] # targets\n",
    "\n",
    "for image, label in test_dl:\n",
    "    if image.shape[3] < 20:\n",
    "        continue\n",
    "\n",
    "    image = image.to(device)\n",
    "\n",
    "    conv_output = conv(image)\n",
    " \n",
    "    enc_hidden = enc.initHidden()\n",
    " \n",
    "    for idx in range(conv_output.shape[2]):\n",
    "        enc_out, enc_hidden = enc(conv_output[:,:,idx], enc_hidden)\n",
    " \n",
    "    target = get_target(label[0])\n",
    "    target_len = len(target)\n",
    "\n",
    "    tars.append(target.detach().cpu().numpy().reshape(1,-1))\n",
    " \n",
    " \n",
    " \n",
    "    decoder_input = torch.tensor([[[SOS]]], device=device)\n",
    "    decoder_hidden = enc_hidden\n",
    " \n",
    "    # print(\"actual: \",label[0], \"predicted: \",end=\"\")\n",
    "    current_pred = []\n",
    "    \n",
    "    while True: # run until you hit EOS\n",
    "        decoder_output, decoder_hidden = dec(decoder_input, decoder_hidden)\n",
    "        topv, topi = decoder_output.topk(1)\n",
    "        decoder_input = topi.squeeze().detach()  # detach from history as input\n",
    "        current_pred.append(decoder_input.item())\n",
    " \n",
    "        if decoder_input.item() == EOS:\n",
    "                break\n",
    "        # print(index2word.get(decoder_input.item(),\"None\"),end=\"\")\n",
    "    preds.append(np.array(current_pred))\n",
    "\n",
    "    # print()"
   ]
  },
  {
   "cell_type": "code",
   "execution_count": 0,
   "metadata": {
    "colab": {},
    "colab_type": "code",
    "id": "D9YBuNzQ62jp"
   },
   "outputs": [],
   "source": [
    "import numpy as np\n",
    "\n",
    "def levenshtein(seq1, seq2):\n",
    "    size_x = len(seq1) + 1\n",
    "    size_y = len(seq2) + 1\n",
    "    matrix = np.zeros ((size_x, size_y))\n",
    "    for x in range(size_x):\n",
    "        matrix [x, 0] = x\n",
    "    for y in range(size_y):\n",
    "        matrix [0, y] = y\n",
    "\n",
    "    for x in range(1, size_x):\n",
    "        for y in range(1, size_y):\n",
    "            if seq1[x-1] == seq2[y-1]:\n",
    "                matrix [x,y] = min(\n",
    "                    matrix[x-1, y] + 1,\n",
    "                    matrix[x-1, y-1],\n",
    "                    matrix[x, y-1] + 1\n",
    "                )\n",
    "            else:\n",
    "                matrix [x,y] = min(\n",
    "                    matrix[x-1,y] + 1,\n",
    "                    matrix[x-1,y-1] + 1,\n",
    "                    matrix[x,y-1] + 1\n",
    "                )\n",
    "    # print (matrix)\n",
    "    return (matrix[size_x - 1, size_y - 1])"
   ]
  },
  {
   "cell_type": "code",
   "execution_count": 0,
   "metadata": {
    "colab": {},
    "colab_type": "code",
    "id": "QGTBQRB6y4Rz"
   },
   "outputs": [],
   "source": [
    "new_tars = []\n",
    "for e in tars:\n",
    "  try:\n",
    "    len(e.squeeze())\n",
    "    new_tars.append(e.squeeze())\n",
    "  except TypeError:\n",
    "    new_tars.append(np.array([e.squeeze()]))"
   ]
  },
  {
   "cell_type": "code",
   "execution_count": 0,
   "metadata": {
    "colab": {},
    "colab_type": "code",
    "id": "kg9Phoke7Qek"
   },
   "outputs": [],
   "source": [
    "dists = [levenshtein(i,j) for i, j in zip(preds, new_tars)]"
   ]
  },
  {
   "cell_type": "code",
   "execution_count": 0,
   "metadata": {
    "colab": {},
    "colab_type": "code",
    "id": "DJ4n8XQv8GBO"
   },
   "outputs": [],
   "source": [
    "from collections import Counter"
   ]
  },
  {
   "cell_type": "code",
   "execution_count": 0,
   "metadata": {
    "colab": {},
    "colab_type": "code",
    "id": "zgV7NHT48Inv"
   },
   "outputs": [],
   "source": [
    "c = Counter(dists)"
   ]
  },
  {
   "cell_type": "code",
   "execution_count": 0,
   "metadata": {
    "colab": {
     "base_uri": "https://localhost:8080/",
     "height": 243
    },
    "colab_type": "code",
    "id": "pMP_UBMV8QHu",
    "outputId": "9b838b87-4e31-40c7-b1c7-983eee1928f2"
   },
   "outputs": [
    {
     "data": {
      "text/plain": [
       "Counter({0.0: 1049,\n",
       "         1.0: 696,\n",
       "         2.0: 438,\n",
       "         3.0: 210,\n",
       "         4.0: 96,\n",
       "         5.0: 45,\n",
       "         6.0: 18,\n",
       "         7.0: 19,\n",
       "         8.0: 7,\n",
       "         9.0: 5,\n",
       "         10.0: 5,\n",
       "         11.0: 1,\n",
       "         14.0: 2})"
      ]
     },
     "execution_count": 125,
     "metadata": {
      "tags": []
     },
     "output_type": "execute_result"
    }
   ],
   "source": [
    "c"
   ]
  },
  {
   "cell_type": "code",
   "execution_count": 0,
   "metadata": {
    "colab": {
     "base_uri": "https://localhost:8080/",
     "height": 34
    },
    "colab_type": "code",
    "id": "nHuIWKjEsjUV",
    "outputId": "065b6a32-a511-48b2-fef0-22ba14f37d97"
   },
   "outputs": [
    {
     "name": "stdout",
     "output_type": "stream",
     "text": [
      "Test loss:  1.388873596909713\n"
     ]
    }
   ],
   "source": [
    "test_loss = 0\n",
    "for image, label in test_dl:\n",
    "    if image.shape[3] < 20:\n",
    "        continue\n",
    "    err = validate(image, label, conv, enc, dec, criterion)\n",
    "    test_loss += err\n",
    "print(\"Test loss: \", eval_loss/len(test_dl))\n",
    "  "
   ]
  },
  {
   "cell_type": "code",
   "execution_count": 0,
   "metadata": {
    "colab": {
     "base_uri": "https://localhost:8080/",
     "height": 34
    },
    "colab_type": "code",
    "id": "OuOGu-pxtIuu",
    "outputId": "5570b7ce-7cc7-4402-ef86-d6e73e0d9375"
   },
   "outputs": [
    {
     "data": {
      "text/plain": [
       "2600"
      ]
     },
     "execution_count": 67,
     "metadata": {
      "tags": []
     },
     "output_type": "execute_result"
    }
   ],
   "source": [
    "len(test_dl)"
   ]
  }
 ],
 "metadata": {
  "@webio": {
   "lastCommId": null,
   "lastKernelId": null
  },
  "accelerator": "GPU",
  "colab": {
   "collapsed_sections": [],
   "name": "KaeshurRecognitionModel.ipynb",
   "provenance": []
  },
  "kernelspec": {
   "display_name": "Python 3",
   "language": "python",
   "name": "python3"
  },
  "language_info": {
   "codemirror_mode": {
    "name": "ipython",
    "version": 3
   },
   "file_extension": ".py",
   "mimetype": "text/x-python",
   "name": "python",
   "nbconvert_exporter": "python",
   "pygments_lexer": "ipython3",
   "version": "3.7.4"
  }
 },
 "nbformat": 4,
 "nbformat_minor": 1
}
